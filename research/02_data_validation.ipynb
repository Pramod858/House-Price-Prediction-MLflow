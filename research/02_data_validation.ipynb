{
 "cells": [
  {
   "cell_type": "code",
   "execution_count": 1,
   "metadata": {},
   "outputs": [],
   "source": [
    "import os"
   ]
  },
  {
   "cell_type": "code",
   "execution_count": 2,
   "metadata": {},
   "outputs": [
    {
     "data": {
      "text/plain": [
       "'d:\\\\Projects\\\\MlOps\\\\End-to-end-Machine-Learning-Project-with-MLflow\\\\research'"
      ]
     },
     "execution_count": 2,
     "metadata": {},
     "output_type": "execute_result"
    }
   ],
   "source": [
    "%pwd"
   ]
  },
  {
   "cell_type": "code",
   "execution_count": 3,
   "metadata": {},
   "outputs": [],
   "source": [
    "os.chdir(\"../\")"
   ]
  },
  {
   "cell_type": "code",
   "execution_count": 4,
   "metadata": {},
   "outputs": [
    {
     "data": {
      "text/plain": [
       "'d:\\\\Projects\\\\MlOps\\\\End-to-end-Machine-Learning-Project-with-MLflow'"
      ]
     },
     "execution_count": 4,
     "metadata": {},
     "output_type": "execute_result"
    }
   ],
   "source": [
    "%pwd"
   ]
  },
  {
   "cell_type": "code",
   "execution_count": 5,
   "metadata": {},
   "outputs": [],
   "source": [
    "from dataclasses import dataclass\n",
    "from pathlib import Path\n",
    "\n",
    "\n",
    "@dataclass(frozen=True)\n",
    "class DataValidationConfig:\n",
    "    root_dir: Path\n",
    "    unzip_data_dir: Path\n",
    "    preprocessed_data:Path"
   ]
  },
  {
   "cell_type": "code",
   "execution_count": 6,
   "metadata": {},
   "outputs": [],
   "source": [
    "from src.mlProject.constants import *\n",
    "from src.mlProject.utils.common import read_yaml, create_directories"
   ]
  },
  {
   "cell_type": "code",
   "execution_count": 7,
   "metadata": {},
   "outputs": [],
   "source": [
    "class ConfigurationManager:\n",
    "    def __init__(\n",
    "        self,\n",
    "        config_filepath = CONFIG_FILE_PATH,\n",
    "        params_filepath = PARAMS_FILE_PATH):\n",
    "\n",
    "        self.config = read_yaml(config_filepath)\n",
    "        self.params = read_yaml(params_filepath)\n",
    "\n",
    "        create_directories([self.config.artifacts_root])\n",
    "\n",
    "\n",
    "    \n",
    "    def get_data_validation_config(self) -> DataValidationConfig:\n",
    "        config = self.config.data_validation\n",
    "\n",
    "        create_directories([config.root_dir])\n",
    "\n",
    "        data_validation_config = DataValidationConfig(\n",
    "            root_dir=config.root_dir,\n",
    "            unzip_data_dir = config.unzip_data_dir,\n",
    "            preprocessed_data=config.preprocessed_data\n",
    "        )\n",
    "\n",
    "        return data_validation_config"
   ]
  },
  {
   "cell_type": "code",
   "execution_count": 8,
   "metadata": {},
   "outputs": [],
   "source": [
    "import os\n",
    "from src.mlProject import logger\n",
    "import pandas as pd\n",
    "import numpy as np"
   ]
  },
  {
   "cell_type": "code",
   "execution_count": 9,
   "metadata": {},
   "outputs": [],
   "source": [
    "import logging\n",
    "from abc import ABC, abstractmethod\n",
    "from typing import Union\n",
    "\n",
    "import numpy as np\n",
    "import pandas as pd\n",
    "from sklearn.model_selection import train_test_split\n",
    "\n",
    "\n",
    "class DataStrategy(ABC):\n",
    "    \"\"\"\n",
    "    Abstract Class defining strategy for handling data\n",
    "    \"\"\"\n",
    "\n",
    "    @abstractmethod\n",
    "    def handle_data(self, data: pd.DataFrame) ->  pd.DataFrame: # Union[pd.DataFrame, pd.Series]:\n",
    "        pass\n",
    "\n",
    "\n",
    "class DataPreprocessStrategy(DataStrategy):\n",
    "    \"\"\"\n",
    "    Data preprocessing strategy which preprocesses the data.\n",
    "    \"\"\"\n",
    "\n",
    "    def handle_data(self, data: pd.DataFrame) -> pd.DataFrame:\n",
    "        \"\"\"\n",
    "        Removes columns which are not required, Fills missing values with median average values, and converts the data type to int.\n",
    "        \"\"\"\n",
    "        try:\n",
    "            data.drop(\n",
    "                [\n",
    "                    \"street\",\n",
    "                    \"date\",\n",
    "                    \"country\",\n",
    "                    \"yr_renovated\",\n",
    "                ],\n",
    "                axis=1, inplace=True\n",
    "            )\n",
    "            data[['floors','bathrooms','bedrooms']] = data[['floors','bathrooms','bedrooms']].astype(\"int\")\n",
    "\n",
    "            data['price'].replace(0,np.nan,inplace=True)\n",
    "            #Once the values are replaced to nan let's fill them with mean\n",
    "            data['price'].fillna(value=data[\"price\"].mean(), inplace=True)\n",
    "\n",
    "            return data\n",
    "        except Exception as e:\n",
    "            logging.error(e)\n",
    "            raise e\n",
    "\n",
    "\n",
    "class DataCatToNumeric(DataStrategy):\n",
    "    \"\"\"\n",
    "    Data CatoNumeric strategy which convert categorical to numeric.\n",
    "    \"\"\"\n",
    "\n",
    "    def handle_data(self, data: pd.DataFrame) -> pd.DataFrame:\n",
    "        \"\"\"\n",
    "        Convert categorical fetures to numeric in the data.\n",
    "        \"\"\"\n",
    "        try:\n",
    "            data['city'], _ = pd.factorize(data['city'])\n",
    "            data['statezip'], _ = pd.factorize(data['statezip']) # function returns factorized df with list of classes\n",
    "            return data\n",
    "        except Exception as e:\n",
    "            logging.error(e)\n",
    "            raise e\n",
    "\n",
    "\n",
    "# class DataDivideStrategy(DataStrategy):\n",
    "    # \"\"\"\n",
    "    # Data dividing strategy which divides the data into train and test data.\n",
    "    # \"\"\"\n",
    "\n",
    "    # def handle_data(self, data: pd.DataFrame) -> Union[pd.DataFrame, pd.Series]:\n",
    "    #     \"\"\"\n",
    "    #     Divides the data into train and test data.\n",
    "    #     \"\"\"\n",
    "    #     try:\n",
    "    #         X = data.drop(\"price\", axis=1)\n",
    "    #         y = data[\"price\"]\n",
    "    #         X_train, X_test, y_train, y_test = train_test_split(\n",
    "    #             X, y, test_size=0.2, random_state=42\n",
    "    #         )\n",
    "    #         return X_train, X_test, y_train, y_test\n",
    "    #     except Exception as e:\n",
    "    #         logging.error(e)\n",
    "    #         raise e\n",
    "\n",
    "\n",
    "class DataOutlierHandlingStrategy(DataStrategy):\n",
    "    \"\"\"\n",
    "    Data outlier handling strategy which replaces outliers with NaN and fills NaN with means.\n",
    "    \"\"\"\n",
    "\n",
    "    def handle_data(self, data: pd.DataFrame) -> pd.DataFrame:\n",
    "        \"\"\"\n",
    "        Replace outliers with NaN and fill NaN with means.\n",
    "        \"\"\"\n",
    "        try:\n",
    "            feature_with_outlier = [\"price\", \"sqft_lot\", \"sqft_basement\"]\n",
    "            for feature in feature_with_outlier:\n",
    "                self.replace_outliers_with_nan_iqr(data, feature)\n",
    "\n",
    "            # Get means for features with outliers\n",
    "            feature_means = data[feature_with_outlier].mean()\n",
    "\n",
    "            # Replace NaNs with means\n",
    "            data.fillna(feature_means, inplace=True)\n",
    "\n",
    "            return data\n",
    "        except Exception as e:\n",
    "            logging.error(e)\n",
    "            raise e\n",
    "\n",
    "    @staticmethod\n",
    "    def replace_outliers_with_nan_iqr(df, feature, inplace=True):\n",
    "        desired_feature = df[feature]\n",
    "\n",
    "        q1, q3 = desired_feature.quantile([0.25, 0.75])\n",
    "        iqr = q3 - q1\n",
    "        upper_bound = q3 + 1.5 * iqr\n",
    "        lower_bound = q1 - 1.5 * iqr\n",
    "\n",
    "        indices = (\n",
    "            desired_feature[\n",
    "                (desired_feature > upper_bound) | (desired_feature < lower_bound)\n",
    "            ]\n",
    "        ).index\n",
    "\n",
    "        if not inplace:\n",
    "            return desired_feature.replace(desired_feature[indices].values, np.nan)\n",
    "        return desired_feature.replace(desired_feature[indices].values, np.nan, inplace=True)\n",
    "\n",
    "\n",
    "\n",
    "class DataCleaning:\n",
    "    \"\"\"\n",
    "    Data cleaning class which preprocesses the data and divides it into train and test data.\n",
    "    \"\"\"\n",
    "\n",
    "    def __init__(self, data: pd.DataFrame, strategy: DataStrategy) -> None:\n",
    "        \"\"\"Initializes the DataCleaning class with a specific strategy.\"\"\"\n",
    "        self.df = data\n",
    "        self.strategy = strategy\n",
    "\n",
    "    def handle_data(self) -> Union[pd.DataFrame, pd.Series]:\n",
    "        \"\"\"Handle data based on the provided strategy\"\"\"\n",
    "        return self.strategy.handle_data(self.df)\n"
   ]
  },
  {
   "cell_type": "code",
   "execution_count": 10,
   "metadata": {},
   "outputs": [],
   "source": [
    "class DataValiadtion:\n",
    "    def __init__(self, config: DataValidationConfig):\n",
    "        self.config = config\n",
    "\n",
    "    def advanced_processing(self)-> bool:\n",
    "        try:\n",
    "            data = pd.read_csv(self.config.unzip_data_dir)\n",
    "\n",
    "            outlier_stratergy = DataOutlierHandlingStrategy()\n",
    "            data_cleaner = DataCleaning(data, outlier_stratergy)\n",
    "            data_cleaned = data_cleaner.handle_data()\n",
    "    \n",
    "            preprocess_strategy = DataPreprocessStrategy()\n",
    "            data_cleaning = DataCleaning(data_cleaned, preprocess_strategy)\n",
    "            preprocessed_data = data_cleaning.handle_data()\n",
    "    \n",
    "            cat_to_numeric_strategy = DataCatToNumeric()\n",
    "            data_cleaner = DataCleaning(preprocessed_data, cat_to_numeric_strategy)\n",
    "            data_numeric = data_cleaner.handle_data()\n",
    "            logger.info(\"Advanced pre processing is done\")\n",
    "\n",
    "            data_numeric.to_csv(self.config.preprocessed_data, index=False)\n",
    "\n",
    "            logger.info(\"data file saved to given path\")\n",
    "            return True\n",
    "        \n",
    "        except Exception as e:\n",
    "            raise e\n",
    "\n"
   ]
  },
  {
   "cell_type": "code",
   "execution_count": 11,
   "metadata": {},
   "outputs": [
    {
     "name": "stdout",
     "output_type": "stream",
     "text": [
      "[2023-12-18 22:31:54,927: INFO: common: yaml file: config\\config.yaml loaded successfully]\n",
      "[2023-12-18 22:31:54,931: INFO: common: yaml file: params.yaml loaded successfully]\n",
      "[2023-12-18 22:31:54,934: INFO: common: created directory at: artifacts]\n",
      "[2023-12-18 22:31:54,935: INFO: common: created directory at: artifacts/data_validation]\n"
     ]
    },
    {
     "name": "stdout",
     "output_type": "stream",
     "text": [
      "[2023-12-18 22:31:55,029: INFO: 3030762188: Advanced pre processing is done]\n",
      "[2023-12-18 22:31:55,066: INFO: 3030762188: data file saved to given path]\n"
     ]
    }
   ],
   "source": [
    "try:\n",
    "    config = ConfigurationManager()\n",
    "    data_validation_config = config.get_data_validation_config()\n",
    "    data_validation = DataValiadtion(config=data_validation_config)\n",
    "    data_validation.advanced_processing()\n",
    "except Exception as e:\n",
    "    raise e"
   ]
  },
  {
   "cell_type": "code",
   "execution_count": null,
   "metadata": {},
   "outputs": [],
   "source": []
  },
  {
   "cell_type": "code",
   "execution_count": null,
   "metadata": {},
   "outputs": [],
   "source": []
  }
 ],
 "metadata": {
  "kernelspec": {
   "display_name": "Python 3 (ipykernel)",
   "language": "python",
   "name": "python3"
  },
  "language_info": {
   "codemirror_mode": {
    "name": "ipython",
    "version": 3
   },
   "file_extension": ".py",
   "mimetype": "text/x-python",
   "name": "python",
   "nbconvert_exporter": "python",
   "pygments_lexer": "ipython3",
   "version": "3.9.18"
  }
 },
 "nbformat": 4,
 "nbformat_minor": 4
}
